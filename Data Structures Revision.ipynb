{
 "cells": [
  {
   "cell_type": "markdown",
   "metadata": {},
   "source": [
    "### List"
   ]
  },
  {
   "cell_type": "code",
   "execution_count": null,
   "metadata": {},
   "outputs": [],
   "source": [
    "file = input(\"Enter the file name\")\n",
    "\n",
    "f = open(file)\n",
    "\n",
    "xyz = list()\n",
    "for line in f:\n",
    "    line = line.rstrip()\n",
    "    words = line.split()\n",
    "    xyz.append(words)\n",
    "xyz"
   ]
  },
  {
   "cell_type": "markdown",
   "metadata": {},
   "source": [
    "### Dictionary"
   ]
  },
  {
   "cell_type": "code",
   "execution_count": null,
   "metadata": {},
   "outputs": [],
   "source": [
    "dictionary_of_count = dict()\n",
    "for abc in xyz:\n",
    "    for k in abc:\n",
    "        dictionary_of_count[k] = dictionary_of_count.get(k,0) + 1\n",
    "dictionary_of_count"
   ]
  },
  {
   "cell_type": "markdown",
   "metadata": {},
   "source": [
    "### Tuple"
   ]
  },
  {
   "cell_type": "code",
   "execution_count": null,
   "metadata": {},
   "outputs": [],
   "source": [
    "rev = list()\n",
    "for word,count in dictionary_of_count.items():\n",
    "    newtup = (count,word)\n",
    "    rev.append(newtup)\n",
    "\n",
    "rev = sorted(rev,reverse=True)\n",
    "rev\n"
   ]
  }
 ],
 "metadata": {
  "kernelspec": {
   "display_name": "Python 3",
   "language": "python",
   "name": "python3"
  },
  "language_info": {
   "codemirror_mode": {
    "name": "ipython",
    "version": 3
   },
   "file_extension": ".py",
   "mimetype": "text/x-python",
   "name": "python",
   "nbconvert_exporter": "python",
   "pygments_lexer": "ipython3",
   "version": "3.7.6"
  }
 },
 "nbformat": 4,
 "nbformat_minor": 4
}
